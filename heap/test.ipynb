{
 "cells": [
  {
   "cell_type": "code",
   "execution_count": 42,
   "metadata": {},
   "outputs": [],
   "source": [
    "from IPython.core.interactiveshell import InteractiveShell\n",
    "InteractiveShell.ast_node_interactivity = \"all\""
   ]
  },
  {
   "cell_type": "code",
   "execution_count": 1,
   "metadata": {},
   "outputs": [],
   "source": [
    "def sliding(nums, k):\n",
    "    win = nums[:k]\n",
    "    # print(win)\n",
    "    for i in range(k, len(nums)):\n",
    "        win.pop(0) # always pop the index 0\n",
    "        # print(win)\n",
    "        win.append(nums[i])\n",
    "        # print(win)\n",
    "nums = [0,1,2,3,4,5]\n",
    "k = 3\n",
    "sliding(nums, k)"
   ]
  },
  {
   "cell_type": "code",
   "execution_count": 9,
   "metadata": {},
   "outputs": [],
   "source": [
    "import heapq\n",
    "def balancing(minh, maxh, nums, i):\n",
    "    # push into min heap\n",
    "    heapq.heappush(minh, nums[i])\n",
    "    # move the first/smallest from min heap to max heap\n",
    "    smt = heapq.heappop(minh)\n",
    "    heapq.heappush(maxh, -smt)\n",
    "    # check if size max heap bigger than min heap, move the first/largest to min heap\n",
    "    if len(maxh) > len(minh):\n",
    "        bst = -1 * heapq.heappop(maxh)\n",
    "        heapq.heappush(minh, bst)\n",
    "    # print(minh, maxh)    \n",
    "    return minh, maxh\n",
    "\n",
    "\n",
    "# minh = []\n",
    "# maxh = []\n",
    "# nums = [1,2,3]\n",
    "# i = 0\n",
    "# minh, maxh = balancing(minh, maxh, nums, i)\n",
    "\n",
    "\n",
    "\n",
    "\n",
    "\n"
   ]
  },
  {
   "cell_type": "code",
   "execution_count": 3,
   "metadata": {},
   "outputs": [],
   "source": [
    "def find_median(k, minh, maxh):\n",
    "    if k % 2: return minh[0]\n",
    "    else: return (minh[0] - maxh[0])/2"
   ]
  },
  {
   "cell_type": "code",
   "execution_count": 4,
   "metadata": {},
   "outputs": [
    {
     "data": {
      "text/plain": [
       "1"
      ]
     },
     "execution_count": 4,
     "metadata": {},
     "output_type": "execute_result"
    }
   ],
   "source": [
    "find_median(k, minh, maxh)"
   ]
  },
  {
   "cell_type": "code",
   "execution_count": 25,
   "metadata": {},
   "outputs": [],
   "source": [
    "def remove(heap,ele):\n",
    "        # Locate the index of the element to be removed\n",
    "        index = heap.index(ele)\n",
    "        # Replace the element with the last element\n",
    "        heap[index] = heap[-1]\n",
    "        heap.pop()\n",
    "                # Restore the heap property if the heap is not empty\n",
    "        if index < len(heap):\n",
    "            heapq._siftup(heap, index)\n",
    "            heapq._siftdown(heap, 0, index)"
   ]
  },
  {
   "cell_type": "code",
   "execution_count": null,
   "metadata": {},
   "outputs": [],
   "source": []
  },
  {
   "cell_type": "code",
   "execution_count": 26,
   "metadata": {},
   "outputs": [],
   "source": [
    "def slidingWindowMedian(nums, k):\n",
    "    minh, maxh, res = [],[], []\n",
    "    for j in range(0, k):\n",
    "        minh, maxh = balancing(minh, maxh, nums, j)\n",
    "        print(f' initially, {minh}, {maxh}')\n",
    "    res.append(find_median(k, minh, maxh))\n",
    "    for i in range(k, len(nums)):\n",
    "        # find what is the first element of nums in heap\n",
    "        print(f'nums[i-k] is {nums[i-k]}') \n",
    "        print(minh, maxh)\n",
    "        if nums[i-k] in minh: \n",
    "            remove(minh, nums[i-k])\n",
    "            print(f\"removed from min, and {nums[i-k]} is removed\")\n",
    "        if (-1 * nums[i-k]) in maxh:\n",
    "            remove(maxh, nums[i-k])\n",
    "            print(f\"removed from max, and {nums[i-k]} is removed\")\n",
    "        \n",
    "        \n",
    "        minh, maxh = balancing(minh, maxh, nums, i)\n",
    "        res.append(find_median(k, minh, maxh))\n",
    "    print(res)\n",
    "\n",
    "        \n",
    "            "
   ]
  },
  {
   "cell_type": "code",
   "execution_count": 27,
   "metadata": {},
   "outputs": [
    {
     "name": "stdout",
     "output_type": "stream",
     "text": [
      " initially, [1], []\n",
      " initially, [3], [-1]\n",
      " initially, [1, 3], [1]\n",
      "nums[i-k] is 1\n",
      "[1, 3] [1]\n",
      "removed from min, and 1 is removed\n",
      "nums[i-k] is 3\n",
      "[-1, 3] [3]\n",
      "removed from min, and 3 is removed\n",
      "nums[i-k] is -1\n",
      "[-1, 5] [3]\n",
      "removed from min, and -1 is removed\n",
      "nums[i-k] is -3\n",
      "[3, 5] [3]\n"
     ]
    },
    {
     "ename": "ValueError",
     "evalue": "-3 is not in list",
     "output_type": "error",
     "traceback": [
      "\u001b[0;31m---------------------------------------------------------------------------\u001b[0m",
      "\u001b[0;31mValueError\u001b[0m                                Traceback (most recent call last)",
      "\u001b[0;32m/var/folders/zq/4v2cbbrx6yv7z769dq1tcqgr0000gn/T/ipykernel_29611/3227054367.py\u001b[0m in \u001b[0;36m<module>\u001b[0;34m\u001b[0m\n\u001b[1;32m      1\u001b[0m \u001b[0mnums\u001b[0m \u001b[0;34m=\u001b[0m \u001b[0;34m[\u001b[0m\u001b[0;36m1\u001b[0m\u001b[0;34m,\u001b[0m\u001b[0;36m3\u001b[0m\u001b[0;34m,\u001b[0m\u001b[0;34m-\u001b[0m\u001b[0;36m1\u001b[0m\u001b[0;34m,\u001b[0m\u001b[0;34m-\u001b[0m\u001b[0;36m3\u001b[0m\u001b[0;34m,\u001b[0m\u001b[0;36m5\u001b[0m\u001b[0;34m,\u001b[0m\u001b[0;36m3\u001b[0m\u001b[0;34m,\u001b[0m\u001b[0;36m6\u001b[0m\u001b[0;34m,\u001b[0m\u001b[0;36m7\u001b[0m\u001b[0;34m]\u001b[0m\u001b[0;34m\u001b[0m\u001b[0;34m\u001b[0m\u001b[0m\n\u001b[1;32m      2\u001b[0m \u001b[0mk\u001b[0m \u001b[0;34m=\u001b[0m \u001b[0;36m3\u001b[0m\u001b[0;34m\u001b[0m\u001b[0;34m\u001b[0m\u001b[0m\n\u001b[0;32m----> 3\u001b[0;31m \u001b[0mslidingWindowMedian\u001b[0m\u001b[0;34m(\u001b[0m\u001b[0mnums\u001b[0m\u001b[0;34m,\u001b[0m \u001b[0mk\u001b[0m\u001b[0;34m)\u001b[0m\u001b[0;34m\u001b[0m\u001b[0;34m\u001b[0m\u001b[0m\n\u001b[0m\u001b[1;32m      4\u001b[0m \u001b[0;31m# [1.00000,-1.00000,-1.00000,3.00000,5.00000,6.00000]\u001b[0m\u001b[0;34m\u001b[0m\u001b[0;34m\u001b[0m\u001b[0m\n",
      "\u001b[0;32m/var/folders/zq/4v2cbbrx6yv7z769dq1tcqgr0000gn/T/ipykernel_29611/3484232635.py\u001b[0m in \u001b[0;36mslidingWindowMedian\u001b[0;34m(nums, k)\u001b[0m\n\u001b[1;32m     13\u001b[0m             \u001b[0mprint\u001b[0m\u001b[0;34m(\u001b[0m\u001b[0;34mf\"removed from min, and {nums[i-k]} is removed\"\u001b[0m\u001b[0;34m)\u001b[0m\u001b[0;34m\u001b[0m\u001b[0;34m\u001b[0m\u001b[0m\n\u001b[1;32m     14\u001b[0m         \u001b[0;32mif\u001b[0m \u001b[0;34m(\u001b[0m\u001b[0;34m-\u001b[0m\u001b[0;36m1\u001b[0m \u001b[0;34m*\u001b[0m \u001b[0mnums\u001b[0m\u001b[0;34m[\u001b[0m\u001b[0mi\u001b[0m\u001b[0;34m-\u001b[0m\u001b[0mk\u001b[0m\u001b[0;34m]\u001b[0m\u001b[0;34m)\u001b[0m \u001b[0;32min\u001b[0m \u001b[0mmaxh\u001b[0m\u001b[0;34m:\u001b[0m\u001b[0;34m\u001b[0m\u001b[0;34m\u001b[0m\u001b[0m\n\u001b[0;32m---> 15\u001b[0;31m             \u001b[0mremove\u001b[0m\u001b[0;34m(\u001b[0m\u001b[0mmaxh\u001b[0m\u001b[0;34m,\u001b[0m \u001b[0mnums\u001b[0m\u001b[0;34m[\u001b[0m\u001b[0mi\u001b[0m\u001b[0;34m-\u001b[0m\u001b[0mk\u001b[0m\u001b[0;34m]\u001b[0m\u001b[0;34m)\u001b[0m\u001b[0;34m\u001b[0m\u001b[0;34m\u001b[0m\u001b[0m\n\u001b[0m\u001b[1;32m     16\u001b[0m             \u001b[0mprint\u001b[0m\u001b[0;34m(\u001b[0m\u001b[0;34mf\"removed from max, and {nums[i-k]} is removed\"\u001b[0m\u001b[0;34m)\u001b[0m\u001b[0;34m\u001b[0m\u001b[0;34m\u001b[0m\u001b[0m\n\u001b[1;32m     17\u001b[0m \u001b[0;34m\u001b[0m\u001b[0m\n",
      "\u001b[0;32m/var/folders/zq/4v2cbbrx6yv7z769dq1tcqgr0000gn/T/ipykernel_29611/4045775119.py\u001b[0m in \u001b[0;36mremove\u001b[0;34m(heap, ele)\u001b[0m\n\u001b[1;32m      1\u001b[0m \u001b[0;32mdef\u001b[0m \u001b[0mremove\u001b[0m\u001b[0;34m(\u001b[0m\u001b[0mheap\u001b[0m\u001b[0;34m,\u001b[0m\u001b[0mele\u001b[0m\u001b[0;34m)\u001b[0m\u001b[0;34m:\u001b[0m\u001b[0;34m\u001b[0m\u001b[0;34m\u001b[0m\u001b[0m\n\u001b[1;32m      2\u001b[0m         \u001b[0;31m# Locate the index of the element to be removed\u001b[0m\u001b[0;34m\u001b[0m\u001b[0;34m\u001b[0m\u001b[0m\n\u001b[0;32m----> 3\u001b[0;31m         \u001b[0mindex\u001b[0m \u001b[0;34m=\u001b[0m \u001b[0mheap\u001b[0m\u001b[0;34m.\u001b[0m\u001b[0mindex\u001b[0m\u001b[0;34m(\u001b[0m\u001b[0mele\u001b[0m\u001b[0;34m)\u001b[0m\u001b[0;34m\u001b[0m\u001b[0;34m\u001b[0m\u001b[0m\n\u001b[0m\u001b[1;32m      4\u001b[0m         \u001b[0;31m# Replace the element with the last element\u001b[0m\u001b[0;34m\u001b[0m\u001b[0;34m\u001b[0m\u001b[0m\n\u001b[1;32m      5\u001b[0m         \u001b[0mheap\u001b[0m\u001b[0;34m[\u001b[0m\u001b[0mindex\u001b[0m\u001b[0;34m]\u001b[0m \u001b[0;34m=\u001b[0m \u001b[0mheap\u001b[0m\u001b[0;34m[\u001b[0m\u001b[0;34m-\u001b[0m\u001b[0;36m1\u001b[0m\u001b[0;34m]\u001b[0m\u001b[0;34m\u001b[0m\u001b[0;34m\u001b[0m\u001b[0m\n",
      "\u001b[0;31mValueError\u001b[0m: -3 is not in list"
     ]
    }
   ],
   "source": [
    "nums = [1,3,-1,-3,5,3,6,7]\n",
    "k = 3\n",
    "slidingWindowMedian(nums, k)\n",
    "# [1.00000,-1.00000,-1.00000,3.00000,5.00000,6.00000]"
   ]
  },
  {
   "cell_type": "code",
   "execution_count": 28,
   "metadata": {},
   "outputs": [
    {
     "name": "stdout",
     "output_type": "stream",
     "text": [
      "Outer loop iteration: 0\n",
      "Inner loop iteration: 0\n",
      "Inner loop iteration: 1\n",
      "Breaking inner loop at iteration: 2\n",
      "Continuing with the outer loop\n",
      "Outer loop iteration: 1\n",
      "Inner loop iteration: 0\n",
      "Inner loop iteration: 1\n",
      "Breaking inner loop at iteration: 2\n",
      "Continuing with the outer loop\n",
      "Outer loop iteration: 2\n",
      "Inner loop iteration: 0\n",
      "Inner loop iteration: 1\n",
      "Breaking inner loop at iteration: 2\n",
      "Continuing with the outer loop\n",
      "Outer loop iteration: 3\n",
      "Inner loop iteration: 0\n",
      "Inner loop iteration: 1\n",
      "Breaking inner loop at iteration: 2\n",
      "Continuing with the outer loop\n",
      "Outer loop iteration: 4\n",
      "Inner loop iteration: 0\n",
      "Inner loop iteration: 1\n",
      "Breaking inner loop at iteration: 2\n",
      "Continuing with the outer loop\n"
     ]
    }
   ],
   "source": [
    "for i in range(5):  # Outer loop\n",
    "    print(f\"Outer loop iteration: {i}\")\n",
    "    for j in range(5):  # Inner loop\n",
    "        if j == 2:\n",
    "            print(f\"Breaking inner loop at iteration: {j}\")\n",
    "            break  # This break only exits the inner loop\n",
    "        print(f\"Inner loop iteration: {j}\")\n",
    "    print(\"Continuing with the outer loop\")"
   ]
  },
  {
   "cell_type": "code",
   "execution_count": 34,
   "metadata": {},
   "outputs": [],
   "source": [
    "hp = {'1':0,'2':3}"
   ]
  },
  {
   "cell_type": "code",
   "execution_count": 35,
   "metadata": {},
   "outputs": [
    {
     "data": {
      "text/plain": [
       "2"
      ]
     },
     "execution_count": 35,
     "metadata": {},
     "output_type": "execute_result"
    }
   ],
   "source": [
    "len(hp.keys())"
   ]
  },
  {
   "cell_type": "code",
   "execution_count": 54,
   "metadata": {},
   "outputs": [],
   "source": [
    "from collections import defaultdict\n",
    "def findAnagrams(s,p):\n",
    "    # edge case\n",
    "    if not p or not s: return []\n",
    "    hp = defaultdict(int)\n",
    "    res = []\n",
    "    for ele in p: #hp={a:1, b:1}\n",
    "        hp[ele] += 1\n",
    "    reset_hp = hp.copy()\n",
    "    m, n = len(p), len(s) # 2, 4\n",
    "    \n",
    "    for i in range(n-m+1): #3\n",
    "        inner_flag = True\n",
    "        for j in range(i,i+m): #2\n",
    "            print(i, j, s[j], hp)\n",
    "            if s[j] in hp and hp[s[j]] > 0: \n",
    "                hp[s[j]] -= 1\n",
    "            else:\n",
    "                # print(j, s[j], hp)\n",
    "                inner_flag = False\n",
    "                break \n",
    "        if inner_flag:\n",
    "            count = 0\n",
    "            for k, v in hp.items():\n",
    "                if v!= 0:\n",
    "                    hp = reset_hp\n",
    "                    continue\n",
    "                else:\n",
    "                    count += 1\n",
    "            print(count)\n",
    "            if count == len(hp.keys()): res.append(i)\n",
    "        # else: continue\n",
    "        hp = reset_hp.copy()\n",
    "\n",
    "    print(res)\n",
    "    return res\n",
    "\n",
    "# 10, 3\n",
    "s = \"cbaebabacd\"\n",
    "p = \"abc\"    \n",
    "\n",
    "# O(mn)\n",
    "# O(m)"
   ]
  },
  {
   "cell_type": "code",
   "execution_count": 55,
   "metadata": {},
   "outputs": [
    {
     "name": "stdout",
     "output_type": "stream",
     "text": [
      "0 0 c defaultdict(<class 'int'>, {'a': 1, 'b': 1, 'c': 1})\n",
      "0 1 b defaultdict(<class 'int'>, {'a': 1, 'b': 1, 'c': 0})\n",
      "0 2 a defaultdict(<class 'int'>, {'a': 1, 'b': 0, 'c': 0})\n",
      "3\n",
      "1 1 b defaultdict(<class 'int'>, {'a': 1, 'b': 1, 'c': 1})\n",
      "1 2 a defaultdict(<class 'int'>, {'a': 1, 'b': 0, 'c': 1})\n",
      "1 3 e defaultdict(<class 'int'>, {'a': 0, 'b': 0, 'c': 1})\n",
      "2 2 a defaultdict(<class 'int'>, {'a': 1, 'b': 1, 'c': 1})\n",
      "2 3 e defaultdict(<class 'int'>, {'a': 0, 'b': 1, 'c': 1})\n",
      "3 3 e defaultdict(<class 'int'>, {'a': 1, 'b': 1, 'c': 1})\n",
      "4 4 b defaultdict(<class 'int'>, {'a': 1, 'b': 1, 'c': 1})\n",
      "4 5 a defaultdict(<class 'int'>, {'a': 1, 'b': 0, 'c': 1})\n",
      "4 6 b defaultdict(<class 'int'>, {'a': 0, 'b': 0, 'c': 1})\n",
      "5 5 a defaultdict(<class 'int'>, {'a': 1, 'b': 1, 'c': 1})\n",
      "5 6 b defaultdict(<class 'int'>, {'a': 0, 'b': 1, 'c': 1})\n",
      "5 7 a defaultdict(<class 'int'>, {'a': 0, 'b': 0, 'c': 1})\n",
      "6 6 b defaultdict(<class 'int'>, {'a': 1, 'b': 1, 'c': 1})\n",
      "6 7 a defaultdict(<class 'int'>, {'a': 1, 'b': 0, 'c': 1})\n",
      "6 8 c defaultdict(<class 'int'>, {'a': 0, 'b': 0, 'c': 1})\n",
      "3\n",
      "7 7 a defaultdict(<class 'int'>, {'a': 1, 'b': 1, 'c': 1})\n",
      "7 8 c defaultdict(<class 'int'>, {'a': 0, 'b': 1, 'c': 1})\n",
      "7 9 d defaultdict(<class 'int'>, {'a': 0, 'b': 1, 'c': 0})\n",
      "[0, 6]\n"
     ]
    },
    {
     "data": {
      "text/plain": [
       "[0, 6]"
      ]
     },
     "execution_count": 55,
     "metadata": {},
     "output_type": "execute_result"
    }
   ],
   "source": [
    "from IPython.core.interactiveshell import InteractiveShell\n",
    "InteractiveShell.ast_node_interactivity = \"all\"\n",
    "findAnagrams(s,p)"
   ]
  },
  {
   "cell_type": "code",
   "execution_count": 68,
   "metadata": {},
   "outputs": [],
   "source": [
    "def swap(nums):\n",
    "    # edge\n",
    "    if len(nums) == 1 and nums[0] != 0: return 1\n",
    "    if len(nums) == 1 and nums[0] == 0: return 0\n",
    "    if not nums: return 0\n",
    "\n",
    "    l, r = 0, len(nums)-1 # 0, 6\n",
    "    res = 0\n",
    "    while l < r:\n",
    "        if nums[l] != 0 and nums[r] == 0:\n",
    "            # pass wrong condition, infinite loop\n",
    "            l += 1\n",
    "            r -= 1\n",
    "        elif nums[l] == 0 and nums[r] != 0:\n",
    "            # swap\n",
    "            nums[l], nums[r] = nums[r], nums[l]\n",
    "            l += 1\n",
    "            r -= 1\n",
    "        elif nums[l] == 0 and nums[r] == 0:\n",
    "            r -= 1\n",
    "        elif nums[l] != 0 and nums[r] != 0:\n",
    "            l += 1\n",
    "    # return l wrong terminate solution\n",
    "    for i in range(len(nums)):\n",
    "         if nums[i] != 0:\n",
    "              res += 1\n",
    "    return res "
   ]
  },
  {
   "cell_type": "code",
   "execution_count": 69,
   "metadata": {},
   "outputs": [
    {
     "name": "stdout",
     "output_type": "stream",
     "text": [
      "4\n"
     ]
    }
   ],
   "source": [
    "nums = [ 1, 0, 2, 0, 0, 3, 4 ]\n",
    "print(swap(nums))"
   ]
  },
  {
   "cell_type": "code",
   "execution_count": 70,
   "metadata": {},
   "outputs": [
    {
     "name": "stdout",
     "output_type": "stream",
     "text": [
      "0\n"
     ]
    }
   ],
   "source": [
    "nums = [0]\n",
    "print(swap(nums))"
   ]
  },
  {
   "cell_type": "code",
   "execution_count": 71,
   "metadata": {},
   "outputs": [
    {
     "name": "stdout",
     "output_type": "stream",
     "text": [
      "3\n"
     ]
    }
   ],
   "source": [
    "nums = [1,1,1,0]\n",
    "print(swap(nums))"
   ]
  },
  {
   "cell_type": "code",
   "execution_count": 85,
   "metadata": {},
   "outputs": [],
   "source": [
    "def swap(nums):\n",
    "    # last_found_non_zero = 0\n",
    "    slow = 0\n",
    "    # for curr in range(len(nums)):\n",
    "    # if nums[curr] != 0:\n",
    "    #     nums[curr], nums[last_found_non_zero] = nums[last_found_non_zero], nums[curr]\n",
    "    #     last_found_non_zero += 1\n",
    "    for fast in range(len(nums)):\n",
    "        if nums[fast] != 0:\n",
    "            nums[fast], nums[slow] = nums[slow], nums[fast]\n",
    "            slow += 1\n",
    "        \n",
    "        # elif nums[curr] != 0:\n",
    "        #     last_found_non_zero = curr\n",
    "        # elif nums[last_found_non_zero] == 0:\n",
    "        #     last_found_non_zero += 1\n",
    "    print(nums)\n",
    "    return  slow #last_found_non_zero\n",
    "\n"
   ]
  },
  {
   "cell_type": "code",
   "execution_count": 86,
   "metadata": {},
   "outputs": [
    {
     "name": "stdout",
     "output_type": "stream",
     "text": [
      "[1, 2, 3, 0, 0, 0]\n",
      "3\n"
     ]
    }
   ],
   "source": [
    "nums = [1,  2,   0, 0, 0, 3]\n",
    "print(swap(nums))"
   ]
  },
  {
   "cell_type": "code",
   "execution_count": 87,
   "metadata": {},
   "outputs": [
    {
     "name": "stdout",
     "output_type": "stream",
     "text": [
      "[3, 0, 0, 0, 0, 0]\n",
      "1\n"
     ]
    }
   ],
   "source": [
    "nums = [0,0, 0, 0, 0, 3]\n",
    "print(swap(nums))"
   ]
  },
  {
   "cell_type": "code",
   "execution_count": 88,
   "metadata": {},
   "outputs": [
    {
     "name": "stdout",
     "output_type": "stream",
     "text": [
      "[0, 0, 0, 0, 0]\n",
      "0\n"
     ]
    }
   ],
   "source": [
    "nums = [0,0, 0, 0, 0]\n",
    "print(swap(nums))"
   ]
  },
  {
   "cell_type": "code",
   "execution_count": 89,
   "metadata": {},
   "outputs": [
    {
     "name": "stdout",
     "output_type": "stream",
     "text": [
      "[1, 2, 3, 0, 0, 0, 0, 0]\n",
      "3\n"
     ]
    }
   ],
   "source": [
    "nums = [0,0, 1,  2,   0, 0, 0, 3]\n",
    "print(swap(nums))"
   ]
  },
  {
   "cell_type": "code",
   "execution_count": null,
   "metadata": {},
   "outputs": [],
   "source": []
  }
 ],
 "metadata": {
  "kernelspec": {
   "display_name": "base",
   "language": "python",
   "name": "python3"
  },
  "language_info": {
   "codemirror_mode": {
    "name": "ipython",
    "version": 3
   },
   "file_extension": ".py",
   "mimetype": "text/x-python",
   "name": "python",
   "nbconvert_exporter": "python",
   "pygments_lexer": "ipython3",
   "version": "3.9.7"
  }
 },
 "nbformat": 4,
 "nbformat_minor": 2
}
