{
 "cells": [
  {
   "cell_type": "markdown",
   "metadata": {},
   "source": [
    "# two while loops\n",
    "- one to check when the interation reaches end => while right < len(s)\n",
    "- one to check if left window needs shrink => while left < right and \"window needs shrink\""
   ]
  },
  {
   "cell_type": "code",
   "execution_count": null,
   "metadata": {},
   "outputs": [],
   "source": [
    "# 滑动窗口算法框架\n",
    "def slidingWindow(s: str):\n",
    "    # 用合适的数据结构记录窗口中的数据，根据具体场景变通\n",
    "    # 比如说，我想记录窗口中元素出现的次数，就用 map\n",
    "    # 我想记录窗口中的元素和，就用 int\n",
    "    window = dict()\n",
    "    \n",
    "    left = 0\n",
    "    right = 0\n",
    "    while right < len(s):\n",
    "        # c 是将移入窗口的字符\n",
    "        c = s[right]\n",
    "        window[c] = window.get(c, 0) + 1\n",
    "        # 增大窗口\n",
    "        right += 1\n",
    "        # 进行窗口内数据的一系列更新\n",
    "        #...\n",
    "\n",
    "        #/*** debug 输出的位置 ***/\n",
    "        # 注意在最终的解法代码中不要 print\n",
    "        # 因为 IO 操作很耗时，可能导致超时\n",
    "        # print(f\"window: [{left}, {right})\")\n",
    "        #/********************/\n",
    "\n",
    "        # 判断左侧窗口是否要收缩\n",
    "        while left < right and \"window needs shrink\":\n",
    "            # d 是将移出窗口的字符\n",
    "            d = s[left]\n",
    "            window[d] -= 1\n",
    "            if window[d] == 0:\n",
    "                del window[d]\n",
    "            # 缩小窗口\n",
    "            left += 1\n",
    "            # 进行窗口内数据的一系列更新\n",
    "            #..."
   ]
  },
  {
   "cell_type": "code",
   "execution_count": 14,
   "metadata": {},
   "outputs": [],
   "source": [
    "# leetcode 438\n",
    "# Find All Anagrams in a String\n",
    "# standard format does not quite clear by using two for loops\n",
    "\n",
    "s = \"cbaebabacd\"\n",
    "p = \"abc\"\n",
    "from collections import Counter, defaultdict\n",
    "def find_all(s,p):\n",
    "    p_count = Counter(p)\n",
    "    res = []\n",
    "    len_p, len_s = len(p), len(s)\n",
    "    # edge case\n",
    "    if len_p > len_s: return res \n",
    "    # Initial window counter for the first window in s\n",
    "    s_count = Counter(s[0:len_p])\n",
    "    # check if the first window is an anagram of p\n",
    "    if p_count == s_count: res.append(0)\n",
    "\n",
    "    # sliding window over the rest index\n",
    "    for i in range(len_p, len_s):\n",
    "        # print(i, s_count, p_count)\n",
    "        # add the new character to the current window counter\n",
    "        s_count[s[i]] += 1\n",
    "        # remove the character that is left behind as the window moves\n",
    "        s_count[s[i-len_p]] -= 1\n",
    "        # if the count becomes 0, remove it from counter for better efficiency\n",
    "        if s_count[s[i-len_p]] == 0:\n",
    "            del s_count[s[i-len_p]]\n",
    "        \n",
    "        # check if the current window is an anagram\n",
    "        if s_count == p_count:\n",
    "            res.append(i-len_p+1) # need to find the left index, which is i-len_p+1\n",
    "    # print(res)\n",
    "    return res\n",
    "\n",
    "\n"
   ]
  },
  {
   "cell_type": "code",
   "execution_count": 15,
   "metadata": {},
   "outputs": [
    {
     "name": "stdout",
     "output_type": "stream",
     "text": [
      "3 Counter({'c': 1, 'b': 1, 'a': 1}) Counter({'a': 1, 'b': 1, 'c': 1})\n",
      "4 Counter({'b': 1, 'a': 1, 'e': 1}) Counter({'a': 1, 'b': 1, 'c': 1})\n",
      "5 Counter({'b': 1, 'a': 1, 'e': 1}) Counter({'a': 1, 'b': 1, 'c': 1})\n",
      "6 Counter({'b': 1, 'a': 1, 'e': 1}) Counter({'a': 1, 'b': 1, 'c': 1})\n",
      "7 Counter({'b': 2, 'a': 1}) Counter({'a': 1, 'b': 1, 'c': 1})\n",
      "8 Counter({'a': 2, 'b': 1}) Counter({'a': 1, 'b': 1, 'c': 1})\n",
      "9 Counter({'b': 1, 'a': 1, 'c': 1}) Counter({'a': 1, 'b': 1, 'c': 1})\n",
      "[0, 6]\n"
     ]
    },
    {
     "data": {
      "text/plain": [
       "[0, 6]"
      ]
     },
     "execution_count": 15,
     "metadata": {},
     "output_type": "execute_result"
    }
   ],
   "source": [
    "find_all(s, p)"
   ]
  },
  {
   "cell_type": "code",
   "execution_count": null,
   "metadata": {},
   "outputs": [],
   "source": []
  }
 ],
 "metadata": {
  "kernelspec": {
   "display_name": "base",
   "language": "python",
   "name": "python3"
  },
  "language_info": {
   "codemirror_mode": {
    "name": "ipython",
    "version": 3
   },
   "file_extension": ".py",
   "mimetype": "text/x-python",
   "name": "python",
   "nbconvert_exporter": "python",
   "pygments_lexer": "ipython3",
   "version": "3.9.7"
  }
 },
 "nbformat": 4,
 "nbformat_minor": 2
}
