Algorithm
Create a method depthFirstSearch which takes n number of rows in the current tree, k target node position in the last row, and rootVal current tree's root's value as parameters:

If n is 1, then we will have a single node in our tree and this node is our target node. So, we return its value rootVal.

Find the number of nodes in the last row of the current tree, totalNodes, 2(n−1)2^{(n - 1)}2 
(n−1)
 .

If the current target node k lies in the left half of the last row of the current subtree (i.e. k <= totalNodes / 2), we will move to the left sub-tree.
If the current node's value rootVal is 0 then the next node's value will be 0, otherwise, the next node's value will be 1.
Return depthFirstSearch(n - 1, k, nextRootVal).

Otherwise, if the current target node k lies in the right half of the last row of the current subtree (i.e. k > totalNodes / 2), we will move to the right sub-tree.
If the current node's value rootVal is 0 then the next node's value will be 1, otherwise, the next node's value will be 0.
Additionally, the target's position will change to (k - (totalNodes / 2)).
Return depthFirstSearch(n - 1, newPosition, nextRootVal).

We return the result returned by calling depthFirstSearch(n, k, 0) with the number of rows as n, target node position k, and root node's value 0.