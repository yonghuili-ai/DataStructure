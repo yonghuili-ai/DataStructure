{
 "cells": [
  {
   "cell_type": "code",
   "execution_count": null,
   "metadata": {},
   "outputs": [],
   "source": [
    "# https://labuladong.online/algo/essential-technique/array-two-pointers-summary-2/#%E4%B8%80%E3%80%81%E5%BF%AB%E6%85%A2%E6%8C%87%E9%92%88%E6%8A%80%E5%B7%A7"
   ]
  },
  {
   "cell_type": "code",
   "execution_count": null,
   "metadata": {},
   "outputs": [],
   "source": [
    "\"\"\"first type: in place change of array\"\"\"\n",
    "# delete duplicated elements from sorted array\n",
    "# see leetcode 26, 83 solutions in the same folder\n",
    "\n",
    "# delete certain elements from array in place\n",
    "# see leetcode 27 solution in the same folder\n",
    "\n",
    "# delete zeor and keep order from array in place \n",
    "# see leetcode 283 solution in the same folder"
   ]
  },
  {
   "cell_type": "code",
   "execution_count": null,
   "metadata": {},
   "outputs": [],
   "source": [
    "def twopointers_inplace_template(nums, val):\n",
    "    if not nums: return []\n",
    "    s, f = 0, 0\n",
    "    while f < len(nums):\n",
    "        if nums[s] == val:\n",
    "            if nums[f] == val:\n",
    "                f += 1\n",
    "            elif nums[f] != val:\n",
    "                nums[s], nums[f] = nums[f], nums[s]\n",
    "                s += 1\n",
    "                f += 1 \n",
    "        elif nums[s] != val:\n",
    "            s += 1\n",
    "            # f = s + 1 wrong at [3,3] val = 5\n",
    "            f = s\n",
    "    print(nums)\n",
    "    return nums"
   ]
  },
  {
   "cell_type": "code",
   "execution_count": null,
   "metadata": {},
   "outputs": [],
   "source": [
    "\"\"\"second type: sliding window to find min/max sub-array\"\"\"\n",
    "# check slidingWindow folder, sildingWindow_summary.ipynb"
   ]
  },
  {
   "cell_type": "code",
   "execution_count": null,
   "metadata": {},
   "outputs": [],
   "source": [
    "# 时间复杂度是 O(N), 就是维护一个窗口，不断滑动，然后更新答案，该算法的大致逻辑如下：\n",
    "int left = 0, right = 0;\n",
    "\n",
    "while (right < nums.size()) {\n",
    "    // 增大窗口\n",
    "    window.add(nums[right]);\n",
    "    right++;\n",
    "    \n",
    "    while (window needs shrink) {\n",
    "        // 缩小窗口\n",
    "        window.remove(nums[left]);\n",
    "        left++;\n",
    "    }\n",
    "}"
   ]
  }
 ],
 "metadata": {
  "language_info": {
   "name": "python"
  }
 },
 "nbformat": 4,
 "nbformat_minor": 2
}
