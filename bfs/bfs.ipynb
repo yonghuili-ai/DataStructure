{
 "cells": [
  {
   "cell_type": "markdown",
   "metadata": {},
   "source": [
    "BFS Template\n",
    "-- Need to revisit after learning queue\n",
    "\n",
    "q = deque()\n",
    "\n",
    "q.append(source_node)\n",
    "\n",
    "visited = set()\n",
    "\n",
    "visited.add(source_node)\n",
    "\n",
    "while q:\n",
    "    cur = q.popleft()\n",
    "\n",
    "    for neigh in cur.neighs:\n",
    "\n",
    "        q.append(neigh)\n",
    "        \n",
    "        visited.add(neigh)\n",
    "\n"
   ]
  },
  {
   "cell_type": "markdown",
   "metadata": {},
   "source": [
    "deque.popleft() is faster than list.pop(0), because the deque has been optimized to do popleft() approximately in O(1), while list.pop(0) takes O(n)\n",
    "\n",
    "from collections import deque\n",
    "1. append(x) - Add x to the right side of the deque\n",
    "2. popleft() - remove and return an element from the left side of the deque\n",
    "3. appendleft(x) - Add x to the left side of the deque\n",
    "4. pop() - Remove and return an element from the right side of the deque."
   ]
  },
  {
   "cell_type": "markdown",
   "metadata": {},
   "source": []
  },
  {
   "cell_type": "markdown",
   "metadata": {},
   "source": []
  },
  {
   "cell_type": "code",
   "execution_count": null,
   "metadata": {},
   "outputs": [],
   "source": []
  }
 ],
 "metadata": {
  "language_info": {
   "name": "python"
  }
 },
 "nbformat": 4,
 "nbformat_minor": 2
}
