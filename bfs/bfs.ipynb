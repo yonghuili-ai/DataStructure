{
 "cells": [
  {
   "cell_type": "markdown",
   "metadata": {},
   "source": [
    "BFS Template\n",
    "-- Need to revisit after learning queue\n",
    "\n",
    "q = deque()\n",
    "\n",
    "q.append(source_node)\n",
    "\n",
    "visited = set()\n",
    "\n",
    "visited.add(source_node)\n",
    "\n",
    "while q:\n",
    "    cur = q.popleft()\n",
    "\n",
    "    for neigh in cur.neighs:\n",
    "\n",
    "        q.append(neigh)\n",
    "        \n",
    "        visited.add(neigh)\n",
    "\n"
   ]
  },
  {
   "cell_type": "markdown",
   "metadata": {},
   "source": [
    "deque.popleft() is faster than list.pop(0), because the deque has been optimized to do popleft() approximately in O(1), while list.pop(0) takes O(n)\n",
    "\n",
    "from collections import deque\n",
    "1. append(x) - Add x to the right side of the deque\n",
    "2. popleft() - remove and return an element from the left side of the deque\n",
    "3. appendleft(x) - Add x to the left side of the deque\n",
    "4. pop() - Remove and return an element from the right side of the deque."
   ]
  },
  {
   "cell_type": "markdown",
   "metadata": {},
   "source": []
  },
  {
   "cell_type": "markdown",
   "metadata": {},
   "source": [
    "We have already introduced two main scenarios of using BFS: do traversal or find the shortest path. Typically, it happens in a tree or a graph.\n",
    ">It will be important to determine the nodes and the edges before doing BFS in a specific question. Typically, the node will be an actual node or a status while the edge will be an actual edge or a possible transition.\n",
    "\n",
    "1. As shown in the code, in each round, the nodes in the queue are the nodes which are waiting to be processed.\n",
    "2. After each outer while loop, we are one step farther from the root node. The variable step indicates the distance from the root node and the current node we are visiting."
   ]
  },
  {
   "cell_type": "markdown",
   "metadata": {},
   "source": [
    "Sometimes, it is important to make sure that we never visit a node twice. Otherwise, we might get stuck in an infinite loop, e.g. in graph with cycle. If so, we can add a hash set to the code above to solve this problem. Here is the pseudocode after modification:\n",
    "\n",
    ">There are some cases where one does not need keep the visited hash set:\n",
    ">You are absolutely sure there is no cycle, for example, in tree traversal;\n",
    ">You do want to add the node to the queue multiple times."
   ]
  },
  {
   "cell_type": "markdown",
   "metadata": {},
   "source": []
  },
  {
   "cell_type": "code",
   "execution_count": null,
   "metadata": {},
   "outputs": [],
   "source": [
    "/**\n",
    " * Return the length of the shortest path between root and target node.\n",
    " */\n",
    "int BFS(Node root, Node target) {\n",
    "    Queue<Node> queue;  // store all nodes which are waiting to be processed\n",
    "    Set<Node> visited;  // store all the nodes that we've visited\n",
    "    int step = 0;       // number of steps needed from root to current node\n",
    "    // initialize\n",
    "    add root to queue;\n",
    "    add root to visited;\n",
    "    // BFS\n",
    "    while (queue is not empty) {\n",
    "        // iterate the nodes which are already in the queue\n",
    "        int size = queue.size();\n",
    "        for (int i = 0; i < size; ++i) {\n",
    "            Node cur = the first node in queue;\n",
    "            return step if cur is target;\n",
    "            for (Node next : the neighbors of cur) {\n",
    "                if (next is not in visited) {\n",
    "                    add next to queue;\n",
    "                    add next to visited;\n",
    "                }\n",
    "            }\n",
    "            remove the first node from queue;\n",
    "        }\n",
    "        step = step + 1;\n",
    "    }\n",
    "    return -1;          // there is no path from root to target\n",
    "}"
   ]
  },
  {
   "cell_type": "markdown",
   "metadata": {},
   "source": []
  },
  {
   "cell_type": "code",
   "execution_count": null,
   "metadata": {},
   "outputs": [],
   "source": []
  }
 ],
 "metadata": {
  "kernelspec": {
   "display_name": "base",
   "language": "python",
   "name": "python3"
  },
  "language_info": {
   "codemirror_mode": {
    "name": "ipython",
    "version": 3
   },
   "file_extension": ".py",
   "mimetype": "text/x-python",
   "name": "python",
   "nbconvert_exporter": "python",
   "pygments_lexer": "ipython3",
   "version": "3.9.7"
  }
 },
 "nbformat": 4,
 "nbformat_minor": 2
}
